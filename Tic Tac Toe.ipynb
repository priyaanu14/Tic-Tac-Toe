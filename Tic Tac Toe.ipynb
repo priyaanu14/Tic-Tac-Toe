{
 "cells": [
  {
   "cell_type": "markdown",
   "id": "a05174c4",
   "metadata": {},
   "source": [
    "**Function to print out a board.**"
   ]
  },
  {
   "cell_type": "code",
   "execution_count": 1,
   "id": "fff2ba67",
   "metadata": {},
   "outputs": [],
   "source": [
    "from IPython.display import clear_output\n",
    "\n",
    "board = ['#','1','2','3','4','5','6','7','8','9']\n",
    "\n",
    "def display_board(board):\n",
    "    spacing = '   '+'|'+'   '+'|'+'\\n'\n",
    "    row_seperator = '___' + '|' + '___' + '|'+'___'\n",
    "    row1 = spacing +' ' + board[1] +' '+'|'+' '+ board[2] +' '+'|' +' '+ board[3]\n",
    "    row2 = spacing +' ' + board[4] +' '+'|'+' '+ board[5] +' '+'|' +' '+ board[6]\n",
    "    row3 = spacing +' ' + board[7] +' '+'|'+' '+ board[8] +' '+'|' +' '+ board[9]\n",
    "    \n",
    "    clear_output()\n",
    "    \n",
    "    print(row1)\n",
    "    print(row_seperator)\n",
    "    print(row2)\n",
    "    print(row_seperator)\n",
    "    print(row3)\n",
    "    print(spacing)\n",
    "    "
   ]
  },
  {
   "cell_type": "code",
   "execution_count": 2,
   "id": "48b6ea04",
   "metadata": {},
   "outputs": [
    {
     "name": "stdout",
     "output_type": "stream",
     "text": [
      "   |   |\n",
      " X | O | O\n",
      "___|___|___\n",
      "   |   |\n",
      " O | O | X\n",
      "___|___|___\n",
      "   |   |\n",
      " X | O | X\n",
      "   |   |\n",
      "\n"
     ]
    }
   ],
   "source": [
    "test_board = ['#','X','O','O','O','O','X','X','O','X']\n",
    "display_board(test_board)"
   ]
  },
  {
   "cell_type": "markdown",
   "id": "efcc6457",
   "metadata": {},
   "source": [
    "**Function that can take in a player input and assign their mark as 'X' or 'O'**"
   ]
  },
  {
   "cell_type": "code",
   "execution_count": 2,
   "id": "e77b9301",
   "metadata": {},
   "outputs": [],
   "source": [
    "def player_input():\n",
    "    marker = ' '\n",
    "    \n",
    "    while marker != 'X' and marker != 'O' :\n",
    "        marker = input('Player 1, What would you like to choose X or O:').strip().upper()\n",
    "        if marker not in ['X', 'O']:\n",
    "            print('This is not an expected input! Please choose between X and O.')\n",
    "            \n",
    "    player1 = marker\n",
    "    if player1 == 'X':\n",
    "        player2 = 'O'\n",
    "    else:\n",
    "        player2 = 'X'\n",
    "    print('Player 1 is ' + player1 + ' and Player2 is '+ player2)\n",
    "    return (player1, player2)"
   ]
  },
  {
   "cell_type": "code",
   "execution_count": 4,
   "id": "e5c71b73",
   "metadata": {},
   "outputs": [
    {
     "name": "stdout",
     "output_type": "stream",
     "text": [
      "Player 1, What would you like to choose X or O:x\n",
      "Player 1 is X and Player2 is O\n"
     ]
    },
    {
     "data": {
      "text/plain": [
       "('X', 'O')"
      ]
     },
     "execution_count": 4,
     "metadata": {},
     "output_type": "execute_result"
    }
   ],
   "source": [
    "player_input()"
   ]
  },
  {
   "cell_type": "code",
   "execution_count": 5,
   "id": "59487634",
   "metadata": {},
   "outputs": [
    {
     "name": "stdout",
     "output_type": "stream",
     "text": [
      "Player 1, What would you like to choose X or O:o\n",
      "Player 1 is O and Player2 is X\n"
     ]
    }
   ],
   "source": [
    "p1_marker, p2_marker = player_input()"
   ]
  },
  {
   "cell_type": "markdown",
   "id": "23242985",
   "metadata": {},
   "source": [
    "**Function that takes board list object, a marker('X','O') and a desired position (number 1-9) and assigns it to board**\n",
    "\n"
   ]
  },
  {
   "cell_type": "code",
   "execution_count": 3,
   "id": "b598a3a1",
   "metadata": {},
   "outputs": [],
   "source": [
    "\n",
    "def place_marker(board, marker, position):\n",
    "    board[position] = marker\n",
    "    display_board(board)"
   ]
  },
  {
   "cell_type": "code",
   "execution_count": 7,
   "id": "3ba90d9c",
   "metadata": {},
   "outputs": [
    {
     "name": "stdout",
     "output_type": "stream",
     "text": [
      "   |   |\n",
      " X | 2 | O\n",
      "___|___|___\n",
      "   |   |\n",
      " O | O | X\n",
      "___|___|___\n",
      "   |   |\n",
      " X | O | X\n",
      "   |   |\n",
      "\n"
     ]
    }
   ],
   "source": [
    "place_marker(test_board, '2', 2)"
   ]
  },
  {
   "cell_type": "markdown",
   "id": "2de2e8cd",
   "metadata": {},
   "source": [
    "**Function that takes in a board and mark(X, O) and checks to see if that mark has won**"
   ]
  },
  {
   "cell_type": "code",
   "execution_count": 4,
   "id": "52703493",
   "metadata": {},
   "outputs": [],
   "source": [
    "def win_check(board, mark):\n",
    "    return (board[1] == board[2] == board[3] == mark or board[4] == board[5] == board[6] == mark or \n",
    "        board[7] == board[8] == board[9] == mark or board[1] == board[4] == board[7] == mark or\n",
    "        board[2] == board[5] == board[8] == mark or board[3] == board[6] == board[9] == mark or\n",
    "        board[1] == board[5] == board[9] == mark or board[3] == board[5] == board[7]  == mark)"
   ]
  },
  {
   "cell_type": "code",
   "execution_count": 9,
   "id": "cdcbbac3",
   "metadata": {},
   "outputs": [
    {
     "data": {
      "text/plain": [
       "False"
      ]
     },
     "execution_count": 9,
     "metadata": {},
     "output_type": "execute_result"
    }
   ],
   "source": [
    "win_check(test_board, 'X')\n"
   ]
  },
  {
   "cell_type": "markdown",
   "id": "1ff47762",
   "metadata": {},
   "source": [
    "**Function to decide which player goes first**"
   ]
  },
  {
   "cell_type": "code",
   "execution_count": 5,
   "id": "8dea237f",
   "metadata": {},
   "outputs": [],
   "source": [
    "import random\n",
    "\n",
    "def choose_first():\n",
    "    return random.randint(1,2)"
   ]
  },
  {
   "cell_type": "code",
   "execution_count": 11,
   "id": "503e0043",
   "metadata": {},
   "outputs": [
    {
     "data": {
      "text/plain": [
       "1"
      ]
     },
     "execution_count": 11,
     "metadata": {},
     "output_type": "execute_result"
    }
   ],
   "source": [
    "choose_first()"
   ]
  },
  {
   "cell_type": "markdown",
   "id": "46896072",
   "metadata": {},
   "source": [
    "**Function to check if a space is freely availabe on the board**"
   ]
  },
  {
   "cell_type": "code",
   "execution_count": 6,
   "id": "f9d5687e",
   "metadata": {},
   "outputs": [],
   "source": [
    "def space_check(board,position): \n",
    "    if type(position) != int or position not in range(1,10):\n",
    "        return False\n",
    "    if board[position] != 'X' and board[position] != 'O':\n",
    "        return True\n",
    "    else:\n",
    "        return False"
   ]
  },
  {
   "cell_type": "code",
   "execution_count": 17,
   "id": "7386c3d1",
   "metadata": {},
   "outputs": [
    {
     "data": {
      "text/plain": [
       "False"
      ]
     },
     "execution_count": 17,
     "metadata": {},
     "output_type": "execute_result"
    }
   ],
   "source": [
    "space_check(test_board, 'k')"
   ]
  },
  {
   "cell_type": "markdown",
   "id": "0de96cfa",
   "metadata": {},
   "source": [
    "**Function to check if board is full**"
   ]
  },
  {
   "cell_type": "code",
   "execution_count": 7,
   "id": "92c38be2",
   "metadata": {},
   "outputs": [],
   "source": [
    "def full_board_check(board):\n",
    "    if board.count('X') + board.count('O') + board.count('#') == len(board) and board :\n",
    "        return True\n",
    "    else:\n",
    "        return False"
   ]
  },
  {
   "cell_type": "code",
   "execution_count": 19,
   "id": "ca747323",
   "metadata": {},
   "outputs": [
    {
     "data": {
      "text/plain": [
       "False"
      ]
     },
     "execution_count": 19,
     "metadata": {},
     "output_type": "execute_result"
    }
   ],
   "source": [
    "full_board_check(test_board)"
   ]
  },
  {
   "cell_type": "markdown",
   "id": "7f1e75fd",
   "metadata": {},
   "source": [
    "**Function to ask for player's next position(1-9) and check if space is free**"
   ]
  },
  {
   "cell_type": "code",
   "execution_count": 8,
   "id": "49024069",
   "metadata": {},
   "outputs": [],
   "source": [
    "def position_input(board):\n",
    "    choice = '10'\n",
    "    valid_positions = ['1','2','3','4','5','6','7','8','9']\n",
    "    \n",
    "    while True:\n",
    "        choice = input('Choose the position between 1-9 :')\n",
    "        \n",
    "        if choice.isdigit() == False:\n",
    "            print('Enter a valid position')    \n",
    "        else:\n",
    "            if choice not in valid_positions:\n",
    "                print('Position should be between 1-9.')\n",
    "            else:\n",
    "                position = int(choice)\n",
    "                if space_check(board, position) == False:\n",
    "                    print('Position is already taken')\n",
    "                else:\n",
    "                    break\n",
    "            \n",
    "    \n",
    "    position = int(choice)\n",
    "    return position\n",
    "\n",
    "    "
   ]
  },
  {
   "cell_type": "code",
   "execution_count": 27,
   "id": "5d6ff69c",
   "metadata": {},
   "outputs": [
    {
     "name": "stdout",
     "output_type": "stream",
     "text": [
      "Choose the position between 1-9 :n\n",
      "Enter a valid position\n",
      "Choose the position between 1-9 :90\n",
      "Position should be between 1-9.\n",
      "Choose the position between 1-9 :8\n",
      "Position is already taken\n",
      "Choose the position between 1-9 :6\n",
      "Position is already taken\n",
      "Choose the position between 1-9 :2\n"
     ]
    },
    {
     "data": {
      "text/plain": [
       "2"
      ]
     },
     "execution_count": 27,
     "metadata": {},
     "output_type": "execute_result"
    }
   ],
   "source": [
    " position_input(test_board)"
   ]
  },
  {
   "cell_type": "markdown",
   "id": "59e5b01c",
   "metadata": {},
   "source": [
    "**Ask for replay**"
   ]
  },
  {
   "cell_type": "code",
   "execution_count": 9,
   "id": "4692d819",
   "metadata": {},
   "outputs": [],
   "source": [
    "def replay():\n",
    "    while True:\n",
    "        wannaplay = input('Do You want to play again ? Y or N : ').upper()\n",
    "        \n",
    "        if wannaplay == 'Y':\n",
    "            return True\n",
    "        elif wannaplay == 'N':\n",
    "            return False\n",
    "        else:\n",
    "            print('Invalid Input. Please choose Y or N')\n",
    "        "
   ]
  },
  {
   "cell_type": "code",
   "execution_count": 29,
   "id": "0e027d3d",
   "metadata": {},
   "outputs": [
    {
     "name": "stdout",
     "output_type": "stream",
     "text": [
      "Do You want to play again ? Y or N : y\n"
     ]
    },
    {
     "data": {
      "text/plain": [
       "True"
      ]
     },
     "execution_count": 29,
     "metadata": {},
     "output_type": "execute_result"
    }
   ],
   "source": [
    "replay()"
   ]
  },
  {
   "cell_type": "markdown",
   "id": "dc5c9c02",
   "metadata": {},
   "source": [
    "**Function to run the game**"
   ]
  },
  {
   "cell_type": "code",
   "execution_count": 10,
   "id": "a27ef6af",
   "metadata": {},
   "outputs": [
    {
     "name": "stdout",
     "output_type": "stream",
     "text": [
      "   |   |\n",
      " 1 | X | O\n",
      "___|___|___\n",
      "   |   |\n",
      " X | O | X\n",
      "___|___|___\n",
      "   |   |\n",
      " O | 8 | O\n",
      "   |   |\n",
      "\n",
      "O WON!!!\n",
      "Do You want to play again ? Y or N : n\n"
     ]
    }
   ],
   "source": [
    "print('Welcome to Tic Tac Toe!')\n",
    "\n",
    "while True:\n",
    "    board = ['#',' ',' ',' ',' ',' ',' ',' ',' ',' ']\n",
    "    marker = '' \n",
    "    \n",
    "    \n",
    "    p1_marker,p2_marker = player_input()\n",
    "    \n",
    "    turn = choose_first()\n",
    "    if turn == 1: \n",
    "        print('Player 1 will go first')\n",
    "        marker = p1_marker\n",
    "    if turn == 2:\n",
    "        print('Player 2 will go first')\n",
    "        marker = p2_marker\n",
    "        \n",
    "    display_board(board)\n",
    "    \n",
    "    while True:\n",
    "        #player 1 turn \n",
    "        if marker == p1_marker:\n",
    "            position = position_input(board) \n",
    "            place_marker(board, marker, position)\n",
    "            marker = p2_marker\n",
    "        #player 2 turn \n",
    "        if marker == p2_marker:\n",
    "            position = position_input(board) \n",
    "            place_marker(board, marker, position)\n",
    "            marker = p1_marker\n",
    "            \n",
    "        \n",
    "        if win_check(board, p1_marker):\n",
    "            print(p1_marker + ' WON!!!')\n",
    "            break\n",
    "        if win_check(board, p2_marker):\n",
    "            print(p2_marker + ' WON!!!')\n",
    "            break\n",
    "        if full_board_check(board):\n",
    "            print(\"It's a tie!!!\")\n",
    "            break\n",
    "        \n",
    "        \n",
    "    if not replay():\n",
    "        break"
   ]
  },
  {
   "cell_type": "markdown",
   "id": "2ac7da6a",
   "metadata": {},
   "source": [
    "##### yipeeeeee it's working fine."
   ]
  }
 ],
 "metadata": {
  "kernelspec": {
   "display_name": "Python 3 (ipykernel)",
   "language": "python",
   "name": "python3"
  },
  "language_info": {
   "codemirror_mode": {
    "name": "ipython",
    "version": 3
   },
   "file_extension": ".py",
   "mimetype": "text/x-python",
   "name": "python",
   "nbconvert_exporter": "python",
   "pygments_lexer": "ipython3",
   "version": "3.9.7"
  }
 },
 "nbformat": 4,
 "nbformat_minor": 5
}
